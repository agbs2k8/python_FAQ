{
 "cells": [
  {
   "cell_type": "markdown",
   "metadata": {},
   "source": [
    "# Python Environments\n",
    "\n",
    "It is important to maintain separate python virtual environments for different projects.  You may need to run multiple different versions of Python (2.7, 3.4, 3.7, etc) and/or you may need to have packages installed with conflicting requirements.  It is always best practice to keep separate environments.\n",
    "\n",
    "I always recommend using Anaconda to manage the environments.  They do a good job making sure you are not going to end up with dependency conflicts, and the base install comes with most of the tools you will need right out of the box. \n",
    "\n",
    "To install: https://docs.conda.io/projects/conda/en/latest/user-guide/install/index.html\n",
    "\n",
    "Follow the steps in that guide and make sure that the following commands will work in your console (or from the magic commands in Jupyter)\n",
    "\n",
    "Note: the `!` below denotes that the cell is running a console command, not python"
   ]
  },
  {
   "cell_type": "code",
   "execution_count": 1,
   "metadata": {},
   "outputs": [
    {
     "name": "stdout",
     "output_type": "stream",
     "text": [
      "Python 3.7.3\r\n"
     ]
    }
   ],
   "source": [
    "!python -V"
   ]
  },
  {
   "cell_type": "code",
   "execution_count": 2,
   "metadata": {},
   "outputs": [
    {
     "name": "stdout",
     "output_type": "stream",
     "text": [
      "conda 4.6.14\r\n"
     ]
    }
   ],
   "source": [
    "!conda -V"
   ]
  },
  {
   "cell_type": "markdown",
   "metadata": {},
   "source": [
    "If those are both working, you likely installed everything correctly.  Now we can work on launching Jupyter notebooks, adding environments and adding all of them to Jupyter. \n",
    "\n",
    "## Launching Jupyter\n",
    "\n",
    "If you installed Conda correctly, you should be able to open a terminal and run the following command: `jupyter notebook`\n",
    "\n",
    "Which should start the notebook server and will likely open a new window in your default browser. If it doesn't, you will see it display a URL like: `http://localhost:8888/?token=<some long value>`  That URL (with the token) will allow you to open notebook server's file explorer.  \n",
    "    \n",
    "Note, the root directory that Jupyter will show you is the path/location you were navigated to in the console prior to launching the notebook server.  If you start Jupyter from a command prompt where you are deep in your directory tree, you may not be able to easily navigate to a folder location you are looking for.  \n",
    "\n",
    "By default, Jupyter can either open .ipynb notebook files, or plain text files (.txt, .md, .py). \n",
    "\n",
    "\n",
    "## Creating Environments\n",
    "\n",
    "Anaconda has a really good guide for creating new environments at https://docs.conda.io/projects/conda/en/latest/user-guide/tasks/manage-environments.html which should answer most questions. \n",
    "\n",
    "So if I installed Anaconda with the latest Python 3.x version, but want to run something that requires Python 2.7, I can run:"
   ]
  },
  {
   "cell_type": "code",
   "execution_count": null,
   "metadata": {},
   "outputs": [],
   "source": [
    "!conda create -n py27 python=2.7"
   ]
  },
  {
   "cell_type": "markdown",
   "metadata": {},
   "source": [
    "This create the environment, but how do I use it in Jupyter?  That is actually really easy.  You can continue to run your Jupyter Notebook server from your default conda/python environment and allow it to use this new environment.  \n",
    "\n",
    "## Adding the new environment to the default Jupyter:\n",
    "\n",
    "First, let's make sure we are working in the new Conda environment:"
   ]
  },
  {
   "cell_type": "code",
   "execution_count": null,
   "metadata": {},
   "outputs": [],
   "source": [
    "!conda activate py27"
   ]
  },
  {
   "cell_type": "markdown",
   "metadata": {},
   "source": [
    "I should see (py27) to the left of my console cursor\n",
    "\n",
    "Next, you need to make sure the iPython Kernel is installed in the new environment"
   ]
  },
  {
   "cell_type": "code",
   "execution_count": null,
   "metadata": {},
   "outputs": [],
   "source": [
    "!conda install ipykernel"
   ]
  },
  {
   "cell_type": "markdown",
   "metadata": {},
   "source": [
    "Last, you need to add your new environment to the ones the default environment is aware of:"
   ]
  },
  {
   "cell_type": "code",
   "execution_count": null,
   "metadata": {},
   "outputs": [],
   "source": [
    "!python -m ipykernel install --user --name py27"
   ]
  },
  {
   "cell_type": "markdown",
   "metadata": {},
   "source": [
    "You may have to restart your Jupyter Notebook server that is running in your default Anaconda environment, but you should now see py27 as an option when creating new notebooks or changing the Kernel on an existing notebook. "
   ]
  }
 ],
 "metadata": {
  "kernelspec": {
   "display_name": "Python 3",
   "language": "python",
   "name": "python3"
  },
  "language_info": {
   "codemirror_mode": {
    "name": "ipython",
    "version": 3
   },
   "file_extension": ".py",
   "mimetype": "text/x-python",
   "name": "python",
   "nbconvert_exporter": "python",
   "pygments_lexer": "ipython3",
   "version": "3.7.3"
  }
 },
 "nbformat": 4,
 "nbformat_minor": 2
}
