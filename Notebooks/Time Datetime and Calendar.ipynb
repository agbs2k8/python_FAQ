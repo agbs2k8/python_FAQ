{
 "cells": [
  {
   "cell_type": "markdown",
   "metadata": {},
   "source": [
    "# Time\n",
    "https://docs.python.org/3/library/time.html?highlight=time#module-time\n",
    "\n",
    "This is the lowest level library for dealing with times.  It is not platform agnostic, so some functions are not available on all operating systems and even if they do, it might not give the same result.  "
   ]
  },
  {
   "cell_type": "code",
   "execution_count": 1,
   "metadata": {},
   "outputs": [],
   "source": [
    "import time"
   ]
  },
  {
   "cell_type": "markdown",
   "metadata": {},
   "source": [
    "The first function of note from the time library is the `time.time()` function. It will return the time in seconds since the epoch as a floating point number.  The epoch generally referrs to January 1, 1970, 00:00:00 (UTC).  You can check the epoch time on your system with `time.gmtime(0)`.  The `time.gmtime()` function will turn the seconds-since-epoch time into something more human readable.  "
   ]
  },
  {
   "cell_type": "code",
   "execution_count": 3,
   "metadata": {},
   "outputs": [
    {
     "data": {
      "text/plain": [
       "1561485466.331348"
      ]
     },
     "execution_count": 3,
     "metadata": {},
     "output_type": "execute_result"
    }
   ],
   "source": [
    "time.time()"
   ]
  },
  {
   "cell_type": "code",
   "execution_count": 7,
   "metadata": {},
   "outputs": [
    {
     "data": {
      "text/plain": [
       "time.struct_time(tm_year=1970, tm_mon=1, tm_mday=1, tm_hour=0, tm_min=0, tm_sec=0, tm_wday=3, tm_yday=1, tm_isdst=0)"
      ]
     },
     "execution_count": 7,
     "metadata": {},
     "output_type": "execute_result"
    }
   ],
   "source": [
    "time.gmtime(0)"
   ]
  },
  {
   "cell_type": "code",
   "execution_count": 8,
   "metadata": {},
   "outputs": [
    {
     "data": {
      "text/plain": [
       "time.struct_time(tm_year=2019, tm_mon=6, tm_mday=25, tm_hour=18, tm_min=3, tm_sec=5, tm_wday=1, tm_yday=176, tm_isdst=0)"
      ]
     },
     "execution_count": 8,
     "metadata": {},
     "output_type": "execute_result"
    }
   ],
   "source": [
    "time.gmtime(time.time())"
   ]
  },
  {
   "cell_type": "markdown",
   "metadata": {},
   "source": [
    "As you can see, I was working on this in June of 2019.  These are relatively simple time functions.  \n",
    "\n",
    "Another common time function that I want to point out is the `time.sleep()` function.  It will suspend execution of the calling thread for the given number of seconds.  There are a number of uses for it, and it's fairly standard in programming. "
   ]
  },
  {
   "cell_type": "code",
   "execution_count": 9,
   "metadata": {},
   "outputs": [],
   "source": [
    "time.sleep(1)"
   ]
  },
  {
   "cell_type": "markdown",
   "metadata": {},
   "source": [
    "Aside from getting the current time and sleeping, you might also want to be able to create time objects from a string or turn time objects back into human readable strings.  You can use the `time.strptime()` function to parse string dates and create time objects from them. Conversly, you can use `time.strftime()` to turn time objects into human readable strings.  For more details on parsing them, visit the python docs at the link above. \n",
    "\n",
    "This is a more complicated way to format the epoch time into a human readable format. It does, at least, allow you to specifiy how you want it formatted."
   ]
  },
  {
   "cell_type": "code",
   "execution_count": 48,
   "metadata": {},
   "outputs": [
    {
     "data": {
      "text/plain": [
       "'Thu, 01 Jan 1970 00:00:00 +0000'"
      ]
     },
     "execution_count": 48,
     "metadata": {},
     "output_type": "execute_result"
    }
   ],
   "source": [
    "time.strftime(\"%a, %d %b %Y %H:%M:%S +0000\", time.gmtime(0))"
   ]
  },
  {
   "cell_type": "markdown",
   "metadata": {},
   "source": [
    "The easier way to print a time in an easily human-readable format.  It is a default function and works like this:"
   ]
  },
  {
   "cell_type": "code",
   "execution_count": 49,
   "metadata": {},
   "outputs": [
    {
     "data": {
      "text/plain": [
       "'Thu Jan  1 00:00:00 1970'"
      ]
     },
     "execution_count": 49,
     "metadata": {},
     "output_type": "execute_result"
    }
   ],
   "source": [
    "time.asctime(time.gmtime(0))"
   ]
  },
  {
   "cell_type": "markdown",
   "metadata": {},
   "source": [
    "Now, let's take a look at some common date and time formats and how we can convert them to time objects."
   ]
  },
  {
   "cell_type": "code",
   "execution_count": 50,
   "metadata": {},
   "outputs": [
    {
     "data": {
      "text/plain": [
       "'Mon Jun 15 13:45:30 2009'"
      ]
     },
     "execution_count": 50,
     "metadata": {},
     "output_type": "execute_result"
    }
   ],
   "source": [
    "time_string = '2009-06-15T13:45:30'\n",
    "parse_format = '%Y-%m-%dT%H:%M:%S'\n",
    "stripped = time.strptime(time_string, parse_format)\n",
    "time.asctime(stripped)"
   ]
  },
  {
   "cell_type": "code",
   "execution_count": 51,
   "metadata": {},
   "outputs": [
    {
     "data": {
      "text/plain": [
       "'Mon Jun 15 00:00:00 2009'"
      ]
     },
     "execution_count": 51,
     "metadata": {},
     "output_type": "execute_result"
    }
   ],
   "source": [
    "time_string = '6/15/2009'\n",
    "parse_format = '%m/%d/%Y'\n",
    "stripped = time.strptime(time_string, parse_format)\n",
    "time.asctime(stripped)"
   ]
  },
  {
   "cell_type": "code",
   "execution_count": 52,
   "metadata": {},
   "outputs": [
    {
     "data": {
      "text/plain": [
       "'Mon Jun 15 00:00:00 2009'"
      ]
     },
     "execution_count": 52,
     "metadata": {},
     "output_type": "execute_result"
    }
   ],
   "source": [
    "time_string = 'Monday, June 15, 2009'\n",
    "parse_format = '%A, %B %d, %Y'\n",
    "stripped = time.strptime(time_string, parse_format)\n",
    "time.asctime(stripped)"
   ]
  },
  {
   "cell_type": "code",
   "execution_count": 53,
   "metadata": {},
   "outputs": [
    {
     "data": {
      "text/plain": [
       "'Mon Jun 15 13:45:00 2009'"
      ]
     },
     "execution_count": 53,
     "metadata": {},
     "output_type": "execute_result"
    }
   ],
   "source": [
    "time_string = 'Mon, Jun 15, 2009 1:45 PM'\n",
    "parse_format = '%a, %b %d, %Y %I:%M %p'\n",
    "stripped = time.strptime(time_string, parse_format)\n",
    "time.asctime(stripped)"
   ]
  },
  {
   "cell_type": "code",
   "execution_count": 54,
   "metadata": {},
   "outputs": [
    {
     "data": {
      "text/plain": [
       "'Mon Jun 15 13:45:30 2009'"
      ]
     },
     "execution_count": 54,
     "metadata": {},
     "output_type": "execute_result"
    }
   ],
   "source": [
    "time_string = 'Monday, June 15, 09 13:45:30' \n",
    "parse_format = '%A, %B %d, %y %H:%M:%S'\n",
    "stripped = time.strptime(time_string, parse_format)\n",
    "time.asctime(stripped)"
   ]
  },
  {
   "cell_type": "code",
   "execution_count": 55,
   "metadata": {},
   "outputs": [
    {
     "data": {
      "text/plain": [
       "'Mon Jun 15 13:45:30 2009'"
      ]
     },
     "execution_count": 55,
     "metadata": {},
     "output_type": "execute_result"
    }
   ],
   "source": [
    "time_string = '6/15/09 1:45:30 PM'\n",
    "parse_format = '%m/%d/%y %I:%M:%S %p'\n",
    "stripped = time.strptime(time_string, parse_format)\n",
    "time.asctime(stripped)"
   ]
  },
  {
   "cell_type": "code",
   "execution_count": 56,
   "metadata": {},
   "outputs": [
    {
     "data": {
      "text/plain": [
       "'Mon Jun 15 13:45:00 2009'"
      ]
     },
     "execution_count": 56,
     "metadata": {},
     "output_type": "execute_result"
    }
   ],
   "source": [
    "time_string = '6/15/2009 13:45'\n",
    "parse_format = '%m/%d/%Y %H:%M'\n",
    "stripped = time.strptime(time_string, parse_format)\n",
    "time.asctime(stripped)"
   ]
  },
  {
   "cell_type": "markdown",
   "metadata": {},
   "source": [
    "Manipulating times using the time functions is not easy, so it is better to use the datetime library.\n",
    "\n",
    "# Datetime\n",
    "https://docs.python.org/3/library/datetime.html?highlight=time#module-datetime\n",
    "\n",
    "From the docs: The datetime module supplies classes for manipulating dates and times in both simple and complex ways. While date and time arithmetic is supported, the focus of the implementation is on efficient attribute extraction for output formatting and manipulation."
   ]
  },
  {
   "cell_type": "code",
   "execution_count": 60,
   "metadata": {},
   "outputs": [],
   "source": [
    "import datetime"
   ]
  },
  {
   "cell_type": "markdown",
   "metadata": {},
   "source": [
    "The datetime package provides methods for dealing with the date and time separately, datetime (both together), and timedelta differences between datetimes.  If you want the current time, you can use `datetime.datetime.now()` to retrieve it.  Let's look at the current time, and then both the \\_\\_str\\_\\_ and \\_\\_repr\\_\\_ for it:"
   ]
  },
  {
   "cell_type": "code",
   "execution_count": 65,
   "metadata": {},
   "outputs": [
    {
     "name": "stdout",
     "output_type": "stream",
     "text": [
      "str:  2019-06-25 14:32:01.763546 \trepr: datetime.datetime(2019, 6, 25, 14, 32, 1, 763546)\n"
     ]
    }
   ],
   "source": [
    "current_time = datetime.datetime.now()\n",
    "print('str: ',current_time, '\\trepr:', current_time.__repr__())"
   ]
  },
  {
   "cell_type": "markdown",
   "metadata": {},
   "source": [
    "Now you can work with dates, times, or datetimes, but I'm going to stick with the full datetime object for now, since that is what I most commonly use. \n",
    "\n",
    "Datetime objects can be timezone aware, as an example, you can get the current UTC time:"
   ]
  },
  {
   "cell_type": "code",
   "execution_count": 86,
   "metadata": {},
   "outputs": [
    {
     "data": {
      "text/plain": [
       "datetime.datetime(2019, 6, 25, 19, 42, 50, 121817)"
      ]
     },
     "execution_count": 86,
     "metadata": {},
     "output_type": "execute_result"
    }
   ],
   "source": [
    "datetime.datetime.utcnow()"
   ]
  },
  {
   "cell_type": "markdown",
   "metadata": {},
   "source": [
    "You can also convert a `time` object into a datetime"
   ]
  },
  {
   "cell_type": "code",
   "execution_count": 68,
   "metadata": {},
   "outputs": [
    {
     "data": {
      "text/plain": [
       "datetime.datetime(2019, 6, 25, 14, 36, 54, 422397)"
      ]
     },
     "execution_count": 68,
     "metadata": {},
     "output_type": "execute_result"
    }
   ],
   "source": [
    "datetime.datetime.fromtimestamp(time.time())"
   ]
  },
  {
   "cell_type": "markdown",
   "metadata": {},
   "source": [
    "The `strptime()` function is virtually the same as with `time`"
   ]
  },
  {
   "cell_type": "code",
   "execution_count": 69,
   "metadata": {},
   "outputs": [
    {
     "data": {
      "text/plain": [
       "datetime.datetime(2009, 6, 15, 13, 45, 30)"
      ]
     },
     "execution_count": 69,
     "metadata": {},
     "output_type": "execute_result"
    }
   ],
   "source": [
    "datetime.datetime.strptime('2009-06-15T13:45:30', '%Y-%m-%dT%H:%M:%S')"
   ]
  },
  {
   "cell_type": "markdown",
   "metadata": {},
   "source": [
    "With more than one datetime object you can do comparisons, and create timedelta objects that represent distances between the times:"
   ]
  },
  {
   "cell_type": "code",
   "execution_count": 75,
   "metadata": {},
   "outputs": [],
   "source": [
    "time1 = datetime.datetime.strptime('2009-06-15T13:45:30', '%Y-%m-%dT%H:%M:%S')\n",
    "time2 = datetime.datetime.now()"
   ]
  },
  {
   "cell_type": "markdown",
   "metadata": {},
   "source": [
    "Also of note, you can extract the individual pieces of a datetime separately of one another:"
   ]
  },
  {
   "cell_type": "code",
   "execution_count": 77,
   "metadata": {},
   "outputs": [
    {
     "data": {
      "text/plain": [
       "(2009, 6, 15, 13, None)"
      ]
     },
     "execution_count": 77,
     "metadata": {},
     "output_type": "execute_result"
    }
   ],
   "source": [
    "time1.year, time1.month, time1.day, time1.hour, time1.tzinfo"
   ]
  },
  {
   "cell_type": "markdown",
   "metadata": {},
   "source": [
    "A few time difference and comparison operations:"
   ]
  },
  {
   "cell_type": "code",
   "execution_count": 80,
   "metadata": {},
   "outputs": [
    {
     "data": {
      "text/plain": [
       "datetime.timedelta(days=3662, seconds=3211, microseconds=217852)"
      ]
     },
     "execution_count": 80,
     "metadata": {},
     "output_type": "execute_result"
    }
   ],
   "source": [
    "my_timedelta = time2 - time1\n",
    "my_timedelta"
   ]
  },
  {
   "cell_type": "code",
   "execution_count": 82,
   "metadata": {},
   "outputs": [
    {
     "data": {
      "text/plain": [
       "datetime.datetime(2029, 7, 4, 15, 32, 32, 435704)"
      ]
     },
     "execution_count": 82,
     "metadata": {},
     "output_type": "execute_result"
    }
   ],
   "source": [
    "time2 + my_timedelta"
   ]
  },
  {
   "cell_type": "code",
   "execution_count": 83,
   "metadata": {},
   "outputs": [
    {
     "data": {
      "text/plain": [
       "datetime.datetime(1999, 6, 6, 12, 51, 58, 782148)"
      ]
     },
     "execution_count": 83,
     "metadata": {},
     "output_type": "execute_result"
    }
   ],
   "source": [
    "time1 - my_timedelta"
   ]
  },
  {
   "cell_type": "code",
   "execution_count": 84,
   "metadata": {},
   "outputs": [
    {
     "data": {
      "text/plain": [
       "True"
      ]
     },
     "execution_count": 84,
     "metadata": {},
     "output_type": "execute_result"
    }
   ],
   "source": [
    "time1 < time2"
   ]
  },
  {
   "cell_type": "markdown",
   "metadata": {},
   "source": [
    "# Calendar\n",
    "https://docs.python.org/3/library/calendar.html#module-calendar\n",
    "\n",
    "From the docs: This module allows you to output calendars like the Unix cal program, and provides additional useful functions related to the calendar.\n",
    "\n",
    "I've honestly never used this once before.  I've just not had a use case that called for it. This is really just me playing around with a few of the methods to see what it does!  "
   ]
  },
  {
   "cell_type": "code",
   "execution_count": 87,
   "metadata": {},
   "outputs": [],
   "source": [
    "import calendar"
   ]
  },
  {
   "cell_type": "code",
   "execution_count": 88,
   "metadata": {},
   "outputs": [],
   "source": [
    "my_calendar = calendar.Calendar()"
   ]
  },
  {
   "cell_type": "code",
   "execution_count": 89,
   "metadata": {},
   "outputs": [
    {
     "name": "stdout",
     "output_type": "stream",
     "text": [
      "<calendar.Calendar object at 0x111158198>\n"
     ]
    }
   ],
   "source": [
    "print(my_calendar)"
   ]
  },
  {
   "cell_type": "code",
   "execution_count": 101,
   "metadata": {},
   "outputs": [
    {
     "name": "stdout",
     "output_type": "stream",
     "text": [
      "Mon, 25 Feb 2019\n",
      "Tue, 26 Feb 2019\n",
      "Wed, 27 Feb 2019\n",
      "Thu, 28 Feb 2019\n",
      "Fri, 01 Mar 2019\n",
      "Sat, 02 Mar 2019\n",
      "Sun, 03 Mar 2019\n",
      "Mon, 04 Mar 2019\n",
      "Tue, 05 Mar 2019\n",
      "Wed, 06 Mar 2019\n",
      "Thu, 07 Mar 2019\n",
      "Fri, 08 Mar 2019\n",
      "Sat, 09 Mar 2019\n",
      "Sun, 10 Mar 2019\n",
      "Mon, 11 Mar 2019\n",
      "Tue, 12 Mar 2019\n",
      "Wed, 13 Mar 2019\n",
      "Thu, 14 Mar 2019\n",
      "Fri, 15 Mar 2019\n",
      "Sat, 16 Mar 2019\n",
      "Sun, 17 Mar 2019\n",
      "Mon, 18 Mar 2019\n",
      "Tue, 19 Mar 2019\n",
      "Wed, 20 Mar 2019\n",
      "Thu, 21 Mar 2019\n",
      "Fri, 22 Mar 2019\n",
      "Sat, 23 Mar 2019\n",
      "Sun, 24 Mar 2019\n",
      "Mon, 25 Mar 2019\n",
      "Tue, 26 Mar 2019\n",
      "Wed, 27 Mar 2019\n",
      "Thu, 28 Mar 2019\n",
      "Fri, 29 Mar 2019\n",
      "Sat, 30 Mar 2019\n",
      "Sun, 31 Mar 2019\n"
     ]
    }
   ],
   "source": [
    "for monthdate in my_calendar.itermonthdates(2019, 3):\n",
    "    print(monthdate.strftime(\"%a, %d %b %Y\"))"
   ]
  },
  {
   "cell_type": "markdown",
   "metadata": {},
   "source": [
    "If you read the documents, you see that months start on a monday, hence why this returned values prior to the start of the specified month."
   ]
  }
 ],
 "metadata": {
  "kernelspec": {
   "display_name": "Python 3",
   "language": "python",
   "name": "python3"
  },
  "language_info": {
   "codemirror_mode": {
    "name": "ipython",
    "version": 3
   },
   "file_extension": ".py",
   "mimetype": "text/x-python",
   "name": "python",
   "nbconvert_exporter": "python",
   "pygments_lexer": "ipython3",
   "version": "3.7.3"
  }
 },
 "nbformat": 4,
 "nbformat_minor": 2
}
