{
 "cells": [
  {
   "cell_type": "markdown",
   "metadata": {},
   "source": [
    "These are a couple of functions I've always kept handy because I end up using them more often than I even expect.  They both work off of an iterable, so I'll define one here to use as an example:"
   ]
  },
  {
   "cell_type": "code",
   "execution_count": 1,
   "metadata": {},
   "outputs": [],
   "source": [
    "my_iter = [x for x in range(20)]"
   ]
  },
  {
   "cell_type": "markdown",
   "metadata": {},
   "source": [
    "# Batch Processing\n",
    "\n",
    "This is a function that will yield small subsets of an iterable and allow you to work with smaller parts at once.  I've used this when I have too much data to process all of it at once, so I could process it in chuncks.  "
   ]
  },
  {
   "cell_type": "code",
   "execution_count": 2,
   "metadata": {},
   "outputs": [],
   "source": [
    "def batch(iterable, n: int = 1):\n",
    "    \"\"\"\n",
    "    Return a dataset in batches (no overlap)\n",
    "    :param iterable: the item to be returned in segments\n",
    "    :param n: length of the segments\n",
    "    :return: generator of portions of the original data\n",
    "    \"\"\"\n",
    "    for ndx in range(0, len(iterable), n):\n",
    "        yield iterable[ndx:max(ndx+n, 1)]"
   ]
  },
  {
   "cell_type": "code",
   "execution_count": 3,
   "metadata": {},
   "outputs": [
    {
     "name": "stdout",
     "output_type": "stream",
     "text": [
      "[0, 1, 2]\n",
      "[3, 4, 5]\n",
      "[6, 7, 8]\n",
      "[9, 10, 11]\n",
      "[12, 13, 14]\n",
      "[15, 16, 17]\n",
      "[18, 19]\n"
     ]
    }
   ],
   "source": [
    "for this_batch in batch(my_iter, 3):\n",
    "    print(this_batch)"
   ]
  },
  {
   "cell_type": "markdown",
   "metadata": {},
   "source": [
    "You can see that it just split my iterable up into smaller parts.  It still gave me back all of it, and did not repeat any portions.\n",
    "\n",
    "# Sliding Window\n",
    "\n",
    "Different from the batch, this gives me overlapping sections of the iterable.  You define a window size, and it will give you back each window, in order of that size."
   ]
  },
  {
   "cell_type": "code",
   "execution_count": 4,
   "metadata": {},
   "outputs": [],
   "source": [
    "from itertools import islice\n",
    "\n",
    "\n",
    "def window(sequence, n: int = 5):\n",
    "    \"\"\"\n",
    "    Returns a sliding window of width n over the iterable sequence\n",
    "    :param sequence: iterable to yield segments from\n",
    "    :param n: number of items in the window\n",
    "    :return: generator of windows\n",
    "    \"\"\"\n",
    "    _it = iter(sequence)\n",
    "    result = tuple(islice(_it, n))\n",
    "    if len(result) == n:\n",
    "        yield result\n",
    "    for element in _it:\n",
    "        result = result[1:] + (element,)\n",
    "        yield result"
   ]
  },
  {
   "cell_type": "code",
   "execution_count": 5,
   "metadata": {},
   "outputs": [
    {
     "name": "stdout",
     "output_type": "stream",
     "text": [
      "(0, 1, 2, 3)\n",
      "(1, 2, 3, 4)\n",
      "(2, 3, 4, 5)\n",
      "(3, 4, 5, 6)\n",
      "(4, 5, 6, 7)\n",
      "(5, 6, 7, 8)\n",
      "(6, 7, 8, 9)\n",
      "(7, 8, 9, 10)\n",
      "(8, 9, 10, 11)\n",
      "(9, 10, 11, 12)\n",
      "(10, 11, 12, 13)\n",
      "(11, 12, 13, 14)\n",
      "(12, 13, 14, 15)\n",
      "(13, 14, 15, 16)\n",
      "(14, 15, 16, 17)\n",
      "(15, 16, 17, 18)\n",
      "(16, 17, 18, 19)\n"
     ]
    }
   ],
   "source": [
    "for this_window in window(my_iter, 4):\n",
    "    print(this_window)"
   ]
  },
  {
   "cell_type": "markdown",
   "metadata": {},
   "source": [
    "It's as easy as that!"
   ]
  }
 ],
 "metadata": {
  "kernelspec": {
   "display_name": "Python 3",
   "language": "python",
   "name": "python3"
  },
  "language_info": {
   "codemirror_mode": {
    "name": "ipython",
    "version": 3
   },
   "file_extension": ".py",
   "mimetype": "text/x-python",
   "name": "python",
   "nbconvert_exporter": "python",
   "pygments_lexer": "ipython3",
   "version": "3.7.3"
  }
 },
 "nbformat": 4,
 "nbformat_minor": 2
}
